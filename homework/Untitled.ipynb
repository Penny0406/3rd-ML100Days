{
 "cells": [
  {
   "cell_type": "code",
   "execution_count": 6,
   "metadata": {},
   "outputs": [
    {
     "name": "stdout",
     "output_type": "stream",
     "text": [
      "a\n",
      "b\n",
      "d\n",
      "e\n",
      "f\n"
     ]
    }
   ],
   "source": [
    "abc = 'abcdefghi'\n",
    "\n",
    "for chart in abc:\n",
    "    if chart == 'c':\n",
    "        continue\n",
    "    if chart == 'g':\n",
    "        break\n",
    "    print(chart)\n",
    "else:\n",
    "    print('g is not in here')"
   ]
  },
  {
   "cell_type": "code",
   "execution_count": 8,
   "metadata": {},
   "outputs": [
    {
     "name": "stdout",
     "output_type": "stream",
     "text": [
      "\n",
      "\n",
      "Case 4：使用else，若無使用break則執行段\n",
      "1, 2, 3, "
     ]
    }
   ],
   "source": [
    "print('\\n\\nCase 4：使用else，若無使用break則執行段')\n",
    "count = 1\n",
    "while count <= 5:\n",
    "    if count == 4:\n",
    "        break\n",
    "    print(count, end=', ')\n",
    "    count += 1\n",
    "else:\n",
    "    print('NO break!')"
   ]
  },
  {
   "cell_type": "code",
   "execution_count": 18,
   "metadata": {},
   "outputs": [
    {
     "data": {
      "text/plain": [
       "[3, 7]"
      ]
     },
     "execution_count": 18,
     "metadata": {},
     "output_type": "execute_result"
    }
   ],
   "source": [
    "def buggy(arg,result=[]):\n",
    "    result.append(arg)\n",
    "    return result\n",
    "buggy(3)\n",
    "buggy(7)"
   ]
  },
  {
   "cell_type": "code",
   "execution_count": null,
   "metadata": {},
   "outputs": [],
   "source": [
    "def buggy(arg,result=[]):\n",
    "    result.append(arg)\n",
    "    return result\n",
    "buggy(3)\n",
    "buggy(7)"
   ]
  }
 ],
 "metadata": {
  "kernelspec": {
   "display_name": "Python 3",
   "language": "python",
   "name": "python3"
  },
  "language_info": {
   "codemirror_mode": {
    "name": "ipython",
    "version": 3
   },
   "file_extension": ".py",
   "mimetype": "text/x-python",
   "name": "python",
   "nbconvert_exporter": "python",
   "pygments_lexer": "ipython3",
   "version": "3.6.8"
  }
 },
 "nbformat": 4,
 "nbformat_minor": 2
}
